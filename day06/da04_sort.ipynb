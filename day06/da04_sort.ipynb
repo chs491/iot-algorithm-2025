{
 "cells": [
  {
   "cell_type": "markdown",
   "metadata": {},
   "source": [
    "### 정렬 Sort\n",
    "\n",
    "<img src = \"https://upload.wikimedia.org/wikipedia/commons/thumb/8/8e/Merge_sort_animation.gif/220px-Merge_sort_animation.gif\" width = 400>\n",
    "\n",
    "- 여러 데이터를 작은값부터 큰 순으로 또는  큰 값부터 작은 순으로 순서에 맞게 정리하는 것\n",
    "    - 오름 차순(Ascending sort)\n",
    "    - 내림 차순(Descending sort)\n",
    "\n",
    "<!-- 표만들때 :--(왼쪽정렬) --:(오른쪽정렬) :--:(중앙정렬)-->\n",
    "|종류|평균|최선|최악|\n",
    "|:--|:--:|--:|:--:|\n",
    "|선택정렬|$O(n^2)$|$O(n^2)$|$O(n^2)$|\n",
    "|삽입정렬|$O(n^2)$|$O(n^2)$|$O(n^2)$\n",
    "|버블|$O(n^2)$|$O(n)$|$O(n^2)$|    \n",
    "|퀵|$O(n log n)$|$O(n log n)$|$O(n^2)$|\n",
    "|합병|$O(n log n)$|$O(n log n)$|$O(n log n)$|\n",
    "|힙|$O(n log n)$|$O(n log n)$|$O(n log n)$|\n",
    "|쉘|$O(n^{1.25})$|$O(n^{1.25})$|$O(n^{1.25})$|\n",
    "|기수|$O(dn)$|$O(dn)$|$O(dn)$|\n",
    "\n",
    "\n",
    "\n"
   ]
  },
  {
   "cell_type": "markdown",
   "metadata": {},
   "source": [
    "#### 선택 정렬\n",
    "\n",
    "- 여러 데이터중 가장 작은 값을 뽑는 과정을 반복하여 정렬하는 방식 "
   ]
  },
  {
   "cell_type": "code",
   "execution_count": 3,
   "metadata": {},
   "outputs": [],
   "source": [
    "def findMinIdx(ary):\n",
    "    minIdx = 0 # 맨 처음 값을 최소라고 가정\n",
    "    for i in range(1,len(ary)):\n",
    "        if ary[minIdx] > ary[i]:\n",
    "            minIdx = i\n",
    "            \n",
    "    return minIdx        "
   ]
  },
  {
   "cell_type": "code",
   "execution_count": 5,
   "metadata": {},
   "outputs": [
    {
     "name": "stdout",
     "output_type": "stream",
     "text": [
      "최소값의 인덱스 : 2\n",
      "최소값 : 22\n"
     ]
    }
   ],
   "source": [
    "testAry = [55,88,22,33,77]\n",
    "minPos = findMinIdx(testAry)\n",
    "\n",
    "print(f'최소값의 인덱스 : {minPos}')\n",
    "print(f'최소값 : {testAry[minPos]}')\n"
   ]
  },
  {
   "cell_type": "code",
   "execution_count": 8,
   "metadata": {},
   "outputs": [
    {
     "name": "stdout",
     "output_type": "stream",
     "text": [
      "정렬 전 -> [188, 162, 168, 120, 50, 150, 177, 105]\n",
      "정렬 후 -> [50, 105, 120, 150, 162, 168, 177, 188]\n"
     ]
    }
   ],
   "source": [
    "## 변수 선언\n",
    "# [('아빠', 188), ('할머니', 162), ...]\n",
    "before = [188, 162, 168, 120, 50, 150, 177, 105]\n",
    "after = []\n",
    "\n",
    "## 메인 코드\n",
    "print(f'정렬 전 -> {before}')\n",
    "\n",
    "for _ in range(len(before)): # 8번\n",
    "    minPos = findMinIdx(before)\n",
    "    after.append(before[minPos])\n",
    "    del(before[minPos])\n",
    "\n",
    "print(f'정렬 후 -> {after}')\n"
   ]
  },
  {
   "cell_type": "markdown",
   "metadata": {},
   "source": [
    "#### 데이터 교환에서 가장 중요한 swap\n",
    "- 변수가 두개 있을때 하나의 값을 다른 곳으로 할당하려면 임시변수가 필요\n",
    "\n",
    "```python\n",
    "    def swap(x,y):\n",
    "        temp = x\n",
    "        x = y\n",
    "        y = temp\n",
    "``` "
   ]
  },
  {
   "cell_type": "markdown",
   "metadata": {},
   "source": [
    "#### 변수 하나로 선택정렬"
   ]
  },
  {
   "cell_type": "code",
   "execution_count": 18,
   "metadata": {},
   "outputs": [
    {
     "name": "stdout",
     "output_type": "stream",
     "text": [
      "정렬 전 -> [188, 162, 168, 120, 50, 150, 177, 105]\n",
      "정렬 중 --> [50, 162, 168, 120, 188, 150, 177, 105]\n",
      "정렬 중 --> [50, 105, 168, 120, 188, 150, 177, 162]\n",
      "정렬 중 --> [50, 105, 120, 168, 188, 150, 177, 162]\n",
      "정렬 중 --> [50, 105, 120, 150, 188, 168, 177, 162]\n",
      "정렬 중 --> [50, 105, 120, 150, 162, 168, 177, 188]\n",
      "정렬 중 --> [50, 105, 120, 150, 162, 168, 177, 188]\n",
      "정렬 중 --> [50, 105, 120, 150, 162, 168, 177, 188]\n",
      "정렬 후 -> [50, 105, 120, 150, 162, 168, 177, 188]\n"
     ]
    }
   ],
   "source": [
    "def sortSelection(ary):\n",
    "    n = len(ary)\n",
    "    for i in range(0, n-1):\n",
    "        minIdx = i\n",
    "        for j in range(i+1, n):\n",
    "            if ary[minIdx] > ary[j]:\n",
    "                minIdx = j\n",
    "\n",
    "        tmp = ary[i]\n",
    "        ary[i] = ary[minIdx]\n",
    "        ary[minIdx] = tmp\n",
    "\n",
    "        print(f'정렬 중 --> {ary}')\n",
    "\n",
    "    return ary     \n",
    "dataAry = [188, 162, 168, 120, 50, 150, 177, 105]\n",
    "\n",
    "print(f'정렬 전 -> {dataAry}')\n",
    "dataAry = sortSelection(dataAry)\n",
    "print(f'정렬 후 -> {dataAry}')"
   ]
  },
  {
   "cell_type": "markdown",
   "metadata": {},
   "source": [
    "#### 삽입정렬\n",
    "- 기존 데이터 중에 자신의 위치를 찾아 데이터를 삽입하는 정렬방식"
   ]
  },
  {
   "cell_type": "markdown",
   "metadata": {},
   "source": [
    "- 삽입될 위치를 찾는 함수"
   ]
  },
  {
   "cell_type": "code",
   "execution_count": 11,
   "metadata": {},
   "outputs": [],
   "source": [
    "def findInsertIdx(ary, data):\n",
    "    findIdx = -1 # 배열의 인덱스 앞(인덱스 0보다 앞을 의미)\n",
    "    for i in range(0, len(ary)):\n",
    "        if ary[i] > data:\n",
    "            findIdx = i\n",
    "            break\n",
    "    if findIdx == -1: # 큰 값을 못찾음. 제일 마지막 위치\n",
    "        return len(ary) \n",
    "    else:\n",
    "        return findIdx   "
   ]
  },
  {
   "cell_type": "code",
   "execution_count": 12,
   "metadata": {},
   "outputs": [
    {
     "name": "stdout",
     "output_type": "stream",
     "text": [
      "삽입위치 인덱스 -> 0\n"
     ]
    }
   ],
   "source": [
    "testAry = []\n",
    "print(f'삽입위치 인덱스 -> {findInsertIdx(testAry, 55)}')"
   ]
  },
  {
   "cell_type": "code",
   "execution_count": 13,
   "metadata": {},
   "outputs": [
    {
     "name": "stdout",
     "output_type": "stream",
     "text": [
      "삽입위치 인덱스 -> 1\n"
     ]
    }
   ],
   "source": [
    "testAry = [33,77,88]\n",
    "print(f'삽입위치 인덱스 -> {findInsertIdx(testAry, 55)}')"
   ]
  },
  {
   "cell_type": "code",
   "execution_count": 14,
   "metadata": {},
   "outputs": [
    {
     "name": "stdout",
     "output_type": "stream",
     "text": [
      "삽입위치 인덱스 -> 2\n"
     ]
    }
   ],
   "source": [
    "testAry = [33,55,77,88]\n",
    "print(f'삽입위치 인덱스 -> {findInsertIdx(testAry, 55)}')"
   ]
  },
  {
   "cell_type": "code",
   "execution_count": 15,
   "metadata": {},
   "outputs": [
    {
     "name": "stdout",
     "output_type": "stream",
     "text": [
      "삽입위치 인덱스 -> 4\n"
     ]
    }
   ],
   "source": [
    "testAry = [33,55,77,88]\n",
    "print(f'삽입위치 인덱스 -> {findInsertIdx(testAry, 100)}')"
   ]
  },
  {
   "cell_type": "markdown",
   "metadata": {},
   "source": [
    "- 삽입정렬 구현"
   ]
  },
  {
   "cell_type": "code",
   "execution_count": 16,
   "metadata": {},
   "outputs": [
    {
     "name": "stdout",
     "output_type": "stream",
     "text": [
      "정렬 전 -> [188, 162, 168, 120, 50, 150, 177, 105]\n",
      "정렬 중 => [188]\n",
      "정렬 중 => [162, 188]\n",
      "정렬 중 => [162, 168, 188]\n",
      "정렬 중 => [120, 162, 168, 188]\n",
      "정렬 중 => [50, 120, 162, 168, 188]\n",
      "정렬 중 => [50, 120, 150, 162, 168, 188]\n",
      "정렬 중 => [50, 120, 150, 162, 168, 177, 188]\n",
      "정렬 중 => [50, 105, 120, 150, 162, 168, 177, 188]\n",
      "정렬 후 -> [50, 105, 120, 150, 162, 168, 177, 188]\n"
     ]
    }
   ],
   "source": [
    "# 변수\n",
    "before = [188, 162, 168, 120, 50, 150, 177, 105]\n",
    "after = []\n",
    "\n",
    "# 메인 코드\n",
    "print(f'정렬 전 -> {before}')\n",
    "for i in range(len(before)):\n",
    "    data = before[i]\n",
    "    insPos = findInsertIdx(after, data)\n",
    "    after.insert(insPos, data)\n",
    "    print(f'정렬 중 => {after}')\n",
    "\n",
    "print(f'정렬 후 -> {after}')    "
   ]
  },
  {
   "cell_type": "markdown",
   "metadata": {},
   "source": [
    "- 변수 하나로 삽입정렬"
   ]
  },
  {
   "cell_type": "code",
   "execution_count": 23,
   "metadata": {},
   "outputs": [
    {
     "name": "stdout",
     "output_type": "stream",
     "text": [
      "정렬 전 -> [188, 162, 168, 120, 50, 150, 177, 105]\n",
      "정렬 중 -> [162, 188, 168, 120, 50, 150, 177, 105]\n",
      "정렬 중 -> [162, 168, 188, 120, 50, 150, 177, 105]\n",
      "정렬 중 -> [120, 162, 168, 188, 50, 150, 177, 105]\n",
      "정렬 중 -> [50, 120, 162, 168, 188, 150, 177, 105]\n",
      "정렬 중 -> [50, 120, 150, 162, 168, 188, 177, 105]\n",
      "정렬 중 -> [50, 120, 150, 162, 168, 177, 188, 105]\n",
      "정렬 중 -> [50, 105, 120, 150, 162, 168, 177, 188]\n",
      "정렬 후 -> [50, 105, 120, 150, 162, 168, 177, 188]\n"
     ]
    }
   ],
   "source": [
    "def sortInsertion(ary):\n",
    "    n = len(ary)\n",
    "    for end in range(1,n): # end -> 1... n-1\n",
    "        for cur in range(end, 0, -1): # cur -> 거꾸로\n",
    "            if ary[cur - 1] > ary[cur]:\n",
    "                # tmp = ary[cur]\n",
    "                # ary[cur] = ary[cur-1]\n",
    "                # ary[cur-1] = tmp\n",
    "                # tmp변수를 안만들고 바로 변경할 수 있는 로직(파이썬에 존재, C는 없음)\n",
    "                ary[cur-1], ary[cur] = ary[cur], ary[cur-1]\n",
    "        print(f'정렬 중 -> {ary}')        \n",
    "\n",
    "    return ary     \n",
    "\n",
    "dataAry = [188, 162, 168, 120, 50, 150, 177, 105] \n",
    "\n",
    "# 메인 코드\n",
    "print(f'정렬 전 -> {dataAry}')\n",
    "dataAry = sortInsertion(dataAry)\n",
    "print(f'정렬 후 -> {dataAry}')\n",
    "      \n"
   ]
  },
  {
   "cell_type": "markdown",
   "metadata": {},
   "source": [
    "#### 버블 정렬\n",
    "\n",
    "- 앞뒤 데이터를 비교해서 큰 값을 뒤로 보내면서 정렬하는 방식\n",
    "- 거품처럼 생겼다고 해서 버블 정렬"
   ]
  },
  {
   "cell_type": "code",
   "execution_count": 25,
   "metadata": {},
   "outputs": [],
   "source": [
    "import random"
   ]
  },
  {
   "cell_type": "code",
   "execution_count": 27,
   "metadata": {},
   "outputs": [
    {
     "name": "stdout",
     "output_type": "stream",
     "text": [
      "정렬 전 -> [71, 57, 64, 76, 89, 68, 86, 57, 54, 89, 72, 81, 60, 82, 83, 52, 92, 55]\n",
      "정렬 중 => [57, 64, 71, 76, 68, 86, 57, 54, 89, 72, 81, 60, 82, 83, 52, 89, 55, 92]\n",
      "정렬 중 => [57, 64, 71, 68, 76, 57, 54, 86, 72, 81, 60, 82, 83, 52, 89, 55, 89, 92]\n",
      "정렬 중 => [57, 64, 68, 71, 57, 54, 76, 72, 81, 60, 82, 83, 52, 86, 55, 89, 89, 92]\n",
      "정렬 중 => [57, 64, 68, 57, 54, 71, 72, 76, 60, 81, 82, 52, 83, 55, 86, 89, 89, 92]\n",
      "정렬 중 => [57, 64, 57, 54, 68, 71, 72, 60, 76, 81, 52, 82, 55, 83, 86, 89, 89, 92]\n",
      "정렬 중 => [57, 57, 54, 64, 68, 71, 60, 72, 76, 52, 81, 55, 82, 83, 86, 89, 89, 92]\n",
      "정렬 중 => [57, 54, 57, 64, 68, 60, 71, 72, 52, 76, 55, 81, 82, 83, 86, 89, 89, 92]\n",
      "정렬 중 => [54, 57, 57, 64, 60, 68, 71, 52, 72, 55, 76, 81, 82, 83, 86, 89, 89, 92]\n",
      "정렬 중 => [54, 57, 57, 60, 64, 68, 52, 71, 55, 72, 76, 81, 82, 83, 86, 89, 89, 92]\n",
      "정렬 중 => [54, 57, 57, 60, 64, 52, 68, 55, 71, 72, 76, 81, 82, 83, 86, 89, 89, 92]\n",
      "정렬 중 => [54, 57, 57, 60, 52, 64, 55, 68, 71, 72, 76, 81, 82, 83, 86, 89, 89, 92]\n",
      "정렬 중 => [54, 57, 57, 52, 60, 55, 64, 68, 71, 72, 76, 81, 82, 83, 86, 89, 89, 92]\n",
      "정렬 중 => [54, 57, 52, 57, 55, 60, 64, 68, 71, 72, 76, 81, 82, 83, 86, 89, 89, 92]\n",
      "정렬 중 => [54, 52, 57, 55, 57, 60, 64, 68, 71, 72, 76, 81, 82, 83, 86, 89, 89, 92]\n",
      "정렬 중 => [52, 54, 55, 57, 57, 60, 64, 68, 71, 72, 76, 81, 82, 83, 86, 89, 89, 92]\n",
      "정렬 중 => [52, 54, 55, 57, 57, 60, 64, 68, 71, 72, 76, 81, 82, 83, 86, 89, 89, 92]\n",
      "정렬 중 => [52, 54, 55, 57, 57, 60, 64, 68, 71, 72, 76, 81, 82, 83, 86, 89, 89, 92]\n",
      "정렬 후 -> [52, 54, 55, 57, 57, 60, 64, 68, 71, 72, 76, 81, 82, 83, 86, 89, 89, 92]\n"
     ]
    }
   ],
   "source": [
    "# 함수 정의\n",
    "def sortBubble(ary):\n",
    "    n = len(ary)\n",
    "    for end in range(n-1, 0, -1): # 거꾸로\n",
    "        for cur in range(0, end):\n",
    "            if ary[cur] > ary[cur + 1]:\n",
    "                ary[cur], ary[cur+1] = ary[cur+1], ary[cur] # swap기능을 포함\n",
    "        print(f'정렬 중 => {ary}')        \n",
    "\n",
    "    return ary\n",
    "\n",
    "# dataAry = [188, 162, 168, 120, 50, 150, 177, 105] \n",
    "dataAry = [random.randint(50,100) for _ in range(random.randint(8,20))]\n",
    "print(f'정렬 전 -> {dataAry}')\n",
    "dataAry = sortBubble(dataAry)\n",
    "print(f'정렬 후 -> {dataAry}')\n"
   ]
  },
  {
   "cell_type": "markdown",
   "metadata": {},
   "source": [
    "##### 버블 정렬 중\n",
    "- 데이터가 거의 정렬이 되고, 한 두개 데이터가 튀었을 때 개선방법\n",
    "- 한 사이클을 마쳤을 때 모두 정렬이 되면 더이상 반복문을 처리않고 탈출 "
   ]
  },
  {
   "cell_type": "code",
   "execution_count": 32,
   "metadata": {},
   "outputs": [
    {
     "name": "stdout",
     "output_type": "stream",
     "text": [
      "정렬 전 -> [50, 105, 120, 188, 150, 162, 158, 177]\n",
      "정렬 중 -> [50, 105, 120, 150, 162, 158, 177, 188]\n",
      "정렬 중 -> [50, 105, 120, 150, 158, 162, 177, 188]\n",
      "정렬 중 -> [50, 105, 120, 150, 158, 162, 177, 188]\n",
      "정렬 후 -> [50, 105, 120, 150, 158, 162, 177, 188]\n"
     ]
    }
   ],
   "source": [
    "## 버블소트 개선함수\n",
    "def sortBubbleA(ary):\n",
    "    n = len(ary)\n",
    "\n",
    "    for end in range(n-1,0,-1):\n",
    "        changeYn = False\n",
    "        \n",
    "        for cur in range(0,end):\n",
    "            if ary[cur] > ary[cur+1]:\n",
    "                ary[cur], ary[cur+1] = ary[cur+1], ary[cur]\n",
    "                changeYn = True # 값이 바꼈다.\n",
    "        print(f'정렬 중 -> {ary}')\n",
    "        if not changeYn:\n",
    "            break        \n",
    "\n",
    "    return ary    \n",
    "\n",
    "dataAry = [50,105,120,188,150,162,158,177]\n",
    "\n",
    "print(f'정렬 전 -> {dataAry}')\n",
    "dataAry = sortBubbleA(dataAry)\n",
    "print(f'정렬 후 -> {dataAry}')"
   ]
  },
  {
   "cell_type": "markdown",
   "metadata": {},
   "source": [
    "- 다른 정렬은 데이터가 거의 정렬이 다 되어있어도 횟수만큼 동작 $O(n^2)$\n",
    "- 버블 정렬은 데이터가 거의 정렬되었으면 반복횟수를 줄일 수 있음 $O(n)$"
   ]
  },
  {
   "cell_type": "markdown",
   "metadata": {},
   "source": [
    "#### 퀵정렬"
   ]
  }
 ],
 "metadata": {
  "kernelspec": {
   "display_name": "3.11.9",
   "language": "python",
   "name": "python3"
  },
  "language_info": {
   "codemirror_mode": {
    "name": "ipython",
    "version": 3
   },
   "file_extension": ".py",
   "mimetype": "text/x-python",
   "name": "python",
   "nbconvert_exporter": "python",
   "pygments_lexer": "ipython3",
   "version": "3.11.9"
  }
 },
 "nbformat": 4,
 "nbformat_minor": 2
}
